{
  "nbformat": 4,
  "nbformat_minor": 0,
  "metadata": {
    "colab": {
      "provenance": [],
      "authorship_tag": "ABX9TyMyAFT0bDyO0suuzyCJkt7Q",
      "include_colab_link": true
    },
    "kernelspec": {
      "name": "python3",
      "display_name": "Python 3"
    },
    "language_info": {
      "name": "python"
    }
  },
  "cells": [
    {
      "cell_type": "markdown",
      "metadata": {
        "id": "view-in-github",
        "colab_type": "text"
      },
      "source": [
        "<a href=\"https://colab.research.google.com/github/hmyrcmn/DATA-MINING/blob/main/exampleOfDataM%C4%B1n%C4%B1ng.ipynb\" target=\"_parent\"><img src=\"https://colab.research.google.com/assets/colab-badge.svg\" alt=\"Open In Colab\"/></a>"
      ]
    },
    {
      "cell_type": "code",
      "execution_count": null,
      "metadata": {
        "id": "C2-n-KVraJZc"
      },
      "outputs": [],
      "source": []
    },
    {
      "cell_type": "markdown",
      "source": [
        "ortalama **hesapla**"
      ],
      "metadata": {
        "id": "FZrrhvMiaWqb"
      }
    },
    {
      "cell_type": "code",
      "source": [
        "def ortalama_hesapla(degerler):\n",
        "    toplam = sum(degerler)\n",
        "    adet = len(degerler)\n",
        "    ortalama = toplam / adet\n",
        "    return ortalama\n",
        "\n",
        "degerler = [9,4,1,0,1,4,9]\n",
        "ortalama = ortalama_hesapla(degerler)\n",
        "print(\"Ortalama:\", ortalama)\n"
      ],
      "metadata": {
        "colab": {
          "base_uri": "https://localhost:8080/"
        },
        "id": "y42guhn0fcNw",
        "outputId": "820792ab-5c12-46bf-acd9-75c2bdca8eca"
      },
      "execution_count": null,
      "outputs": [
        {
          "output_type": "stream",
          "name": "stdout",
          "text": [
            "Ortalama: 4.0\n"
          ]
        }
      ]
    },
    {
      "cell_type": "code",
      "source": [
        "def ortalama_hesapla(degerler):\n",
        "    toplam = sum(degerler)\n",
        "    adet = len(degerler)\n",
        "    ortalama = toplam / adet\n",
        "    return ortalama\n",
        "\n",
        "degerler = [-3,-2,-1,0,1,2,3]\n",
        "ortalama = ortalama_hesapla(degerler)\n",
        "print(\"Ortalama:\", ortalama)\n"
      ],
      "metadata": {
        "colab": {
          "base_uri": "https://localhost:8080/"
        },
        "id": "mVj3PwJkaVCE",
        "outputId": "6b233456-fdcd-4278-c9d8-ff8678a406f7"
      },
      "execution_count": null,
      "outputs": [
        {
          "output_type": "stream",
          "name": "stdout",
          "text": [
            "Ortalama: 0.0\n"
          ]
        }
      ]
    },
    {
      "cell_type": "code",
      "source": [
        "#VARYANS HESAPLAMA:\n",
        "def varyans_hesapla(degerler):\n",
        "    ortalama = sum(degerler) / len(degerler)\n",
        "    farklar_kare = [(x - ortalama) ** 2 for x in degerler]\n",
        "    varyans = sum(farklar_kare) / len(degerler)-1\n",
        "    return varyans\n",
        "\n",
        "degerler = [125,100,70,120,60,220,75]\n",
        "varyans = varyans_hesapla(degerler)\n",
        "print(\"Varyans:\", varyans)\n",
        "print(\"varyans akrekök:\",math.sqrt(varyans))\n"
      ],
      "metadata": {
        "colab": {
          "base_uri": "https://localhost:8080/"
        },
        "id": "2L-FfYodkegD",
        "outputId": "85906197-1f6e-4661-e781-4803b0748e89"
      },
      "execution_count": null,
      "outputs": [
        {
          "output_type": "stream",
          "name": "stdout",
          "text": [
            "Varyans: 2549.0\n",
            "varyans akrekök: 50.48762224545735\n"
          ]
        }
      ]
    },
    {
      "cell_type": "code",
      "source": [
        "#estimate proballites normal dağılımda sürekşi değerlerde maas 120 k icin x belirlendi\n",
        "import math\n",
        "\n",
        "def gibi_indeks(x, ortalama, varyans):\n",
        "    katsayi = 1 / math.sqrt(2 * math.pi * varyans ** 2)\n",
        "    eksponent = math.exp(-(x - ortalama) ** 2 / (2 * (varyans ** 2)))\n",
        "    indeks = katsayi * eksponent\n",
        "    return indeks\n",
        "\n",
        "x =120\n",
        "ortalama = 110\n",
        "varyans = math.sqrt(2975) #varyansın karekökünü yaz\n",
        "\n",
        "gibi_endeks = gibi_indeks(x, ortalama, varyans)\n",
        "print(\"GİBİ Endeksi:\", gibi_endeks)\n"
      ],
      "metadata": {
        "colab": {
          "base_uri": "https://localhost:8080/"
        },
        "id": "SBTNL1it4XfD",
        "outputId": "cabc9e0f-1c99-430f-dc8e-46f045d9f7a6"
      },
      "execution_count": null,
      "outputs": [
        {
          "output_type": "stream",
          "name": "stdout",
          "text": [
            "GİBİ Endeksi: 0.007192295359419549\n"
          ]
        }
      ]
    },
    {
      "cell_type": "code",
      "source": [
        "#foil: \n",
        "import math\n",
        "\n",
        "\n",
        "def hesapla(p1, n1, po, n0):\n",
        "    log_deger = math.log2(p1 / (p1 + n1)) - math.log2(po / (po + n0))\n",
        "    return log_deger*p1\n",
        "\n",
        "p1 = 4\n",
        "n1 = 4\n",
        "po = 4\n",
        "n0 = 10\n",
        "\n",
        "sonuc = hesapla(p1, n1, po, n0)\n",
        "print(\"Sonuç:\", sonuc)\n"
      ],
      "metadata": {
        "colab": {
          "base_uri": "https://localhost:8080/"
        },
        "id": "9cP7LqFPPh3o",
        "outputId": "0473edda-5b05-47c1-da45-9b008328b2de"
      },
      "execution_count": 21,
      "outputs": [
        {
          "output_type": "stream",
          "name": "stdout",
          "text": [
            "Sonuç: 3.2294196882304167\n"
          ]
        }
      ]
    },
    {
      "cell_type": "code",
      "source": [
        "#ööklid distance: \n",
        "import numpy as np\n",
        "\n",
        "def euclidean_distance(arr1, arr2):\n",
        "    if len(arr1) != len(arr2):\n",
        "        raise ValueError(\"Diziler aynı uzunlukta olmalıdır.\")\n",
        "    \n",
        "    distance = np.linalg.norm(np.array(arr1) - np.array(arr2))\n",
        "    return distance\n",
        "\n",
        "dizi1 = [1,0]\n",
        "dizi2 = [0,1]\n",
        "\n",
        "distance = euclidean_distance(dizi1, dizi2)\n",
        "print(\"Öklid Mesafesi:\", distance)\n"
      ],
      "metadata": {
        "colab": {
          "base_uri": "https://localhost:8080/"
        },
        "id": "dgOe9i5PTDue",
        "outputId": "049515e3-55b8-4ebd-811d-52011045b492"
      },
      "execution_count": null,
      "outputs": [
        {
          "output_type": "stream",
          "name": "stdout",
          "text": [
            "Öklid Mesafesi: 1.4142135623730951\n"
          ]
        }
      ]
    },
    {
      "cell_type": "code",
      "source": [
        "#smc hesapla\n",
        "def smc_coefficient(arr1, arr2):\n",
        "    if len(arr1) != len(arr2):\n",
        "        raise ValueError(\"Diziler aynı uzunlukta olmalıdır.\")\n",
        "    \n",
        "    match_count = sum(a == b for a, b in zip(arr1, arr2))\n",
        "    smc = match_count / len(arr1)\n",
        "    return smc\n",
        "\n",
        "dizi1 = [0, 1, 0, 1, 1]\n",
        "dizi2 = [1, 1, 0, 1, 0]\n",
        "\n",
        "smc_value = smc_coefficient(dizi1, dizi2)\n",
        "print(\"SMC Değeri:\", smc_value)\n"
      ],
      "metadata": {
        "id": "VOA6c8IMTSh9"
      },
      "execution_count": null,
      "outputs": []
    },
    {
      "cell_type": "code",
      "source": [
        "#jaccard hesapla\n",
        "def jaccard_similarity(set1, set2):\n",
        "    intersection = len(set1.intersection(set2))\n",
        "    union = len(set1.union(set2))\n",
        "    jaccard = intersection / union\n",
        "    return jaccard\n",
        "\n",
        "kume1 = {1, 2, 3, 4, 5}\n",
        "kume2 = {4, 5, 6, 7, 8}\n",
        "\n",
        "jaccard_value = jaccard_similarity(kume1, kume2)\n",
        "print(\"Jaccard Benzerliği:\", jaccard_value)\n"
      ],
      "metadata": {
        "id": "RPN6Wj83TaVw"
      },
      "execution_count": null,
      "outputs": []
    },
    {
      "cell_type": "markdown",
      "source": [
        "corelasyon\n"
      ],
      "metadata": {
        "id": "x9KXETgAfgot"
      }
    },
    {
      "cell_type": "code",
      "source": [
        "import numpy as np\n",
        "\n",
        "degerler = [-3, -2, -1, 0, 1, 2, 3]\n",
        "degerler2 = [9, 4, 1, 0, 1, 4, 9]\n",
        "\n",
        "korelasyon = np.corrcoef(degerler, degerler2)[0, 1]\n",
        "print(\"Korelasyon:\", korelasyon)\n"
      ],
      "metadata": {
        "colab": {
          "base_uri": "https://localhost:8080/"
        },
        "id": "bQlmnrYZffx1",
        "outputId": "54e9f661-4dc7-4b4a-fae6-987691a0703b"
      },
      "execution_count": null,
      "outputs": [
        {
          "output_type": "stream",
          "name": "stdout",
          "text": [
            "Korelasyon: 0.0\n"
          ]
        }
      ]
    },
    {
      "cell_type": "markdown",
      "source": [
        "standart sapma"
      ],
      "metadata": {
        "id": "ILqaPdXpagp8"
      }
    },
    {
      "cell_type": "markdown",
      "source": [
        "sx:-3-2-10123\n",
        "sy:942101249\n"
      ],
      "metadata": {
        "id": "94wRich0ecB4"
      }
    },
    {
      "cell_type": "code",
      "source": [
        "#agırlıklı \n",
        "from collections import Counter\n",
        "\n",
        "def majority_weighting(predictions, weights):\n",
        "    counter = Counter(predictions)\n",
        "    majority_label = counter.most_common(1)[0][0]\n",
        "    weighted_label = sum(weights[prediction] for prediction in predictions)\n",
        "    return majority_label, weighted_label\n",
        "\n",
        "# Örnek tahminler ve ağırlıklar\n",
        "predictions = [0, 1, 1, 1, 0, 0, 1]\n",
        "weights = {0: 0.2, 1: 0.8}\n",
        "\n",
        "# Majority weighting ile sınıf tahminini hesapla\n",
        "majority_label, weighted_label = majority_weighting(predictions, weights)\n",
        "\n",
        "print(\"Çoğunluk Sınıf Etiketi:\", majority_label)\n",
        "print(\"Ağırlıklı Sınıf Etiketi:\", weighted_label)\n"
      ],
      "metadata": {
        "id": "wNqwtsYIU2VP"
      },
      "execution_count": null,
      "outputs": []
    },
    {
      "cell_type": "code",
      "source": [
        "def fark_kareleri_toplami(degerler):\n",
        "    ortalama = sum(degerler) / len(degerler)\n",
        "    fark_kareleri = [(x - ortalama) ** 2 for x in degerler]\n",
        "    toplam = sum(fark_kareleri)\n",
        "    return toplam\n",
        "\n",
        "\n",
        "degerler = [-3,-2,-1,0,1,2,3]\n",
        "sonuc = fark_kareleri_toplami(degerler)\n",
        "print(\"Fark Kareleri Toplamı:\", sonuc)\n",
        "\n",
        "uzunluk= len(degerler)-1\n",
        "sx=math.sqrt(sonuc/uzunluk)\n",
        "print(\"sx: \",sx)\n",
        "\n",
        "\n",
        "degerler2 = [9,4,1,0,1,4,9]\n",
        "sonuc2 = fark_kareleri_toplami(degerler2)\n",
        "print(\"Fark Kareleri Toplamı:\", sonuc2)\n",
        "uzunluk2= len(degerler2)-1\n",
        "sx2=math.sqrt(sonuc2/uzunluk2)\n",
        "print(\"sx2: \",sx2)\n",
        "\n"
      ],
      "metadata": {
        "colab": {
          "base_uri": "https://localhost:8080/"
        },
        "id": "Y-WalNYCb2tP",
        "outputId": "87c4c9b8-992b-4c70-810e-5c23c6adf23e"
      },
      "execution_count": null,
      "outputs": [
        {
          "output_type": "stream",
          "name": "stdout",
          "text": [
            "Fark Kareleri Toplamı: 28.0\n",
            "sx:  2.160246899469287\n",
            "Fark Kareleri Toplamı: 84.0\n",
            "sx2:  3.7416573867739413\n"
          ]
        }
      ]
    },
    {
      "cell_type": "code",
      "source": [
        "# \n",
        "import math\n",
        "\n",
        "def calculate_expression(e, z, n):\n",
        "    numerator = e + math.pow(z, 2) / (2 * n) + (z * math.sqrt(e * (1 - e))) / n\n",
        "    denominator = 1 + (math.pow(z, 2) / (4 * math.pow(n, 2)) / (1 + (math.pow(z, 2) / n)))\n",
        "    result = numerator / denominator\n",
        "    return result\n",
        "\n",
        "# Değerlerin tanımlanması\n",
        "e = 2/7\n",
        "z = 0.25\n",
        "n = 7\n",
        "\n",
        "# İfadeyi hesaplama\n",
        "result = calculate_expression(e, z, n)\n",
        "\n",
        "print(\"Sonuç:\", result)\n"
      ],
      "metadata": {
        "colab": {
          "base_uri": "https://localhost:8080/"
        },
        "id": "HCduRJDOdpL9",
        "outputId": "eb6e53c4-85b0-4037-eda0-76ee81def715"
      },
      "execution_count": 19,
      "outputs": [
        {
          "output_type": "stream",
          "name": "stdout",
          "text": [
            "Sonuç: 0.30621585987808736\n"
          ]
        }
      ]
    },
    {
      "cell_type": "code",
      "source": [],
      "metadata": {
        "id": "B4P_o2zjeDdc"
      },
      "execution_count": null,
      "outputs": []
    }
  ]
}