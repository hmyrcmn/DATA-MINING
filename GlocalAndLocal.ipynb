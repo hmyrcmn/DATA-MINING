{
  "nbformat": 4,
  "nbformat_minor": 0,
  "metadata": {
    "colab": {
      "provenance": []
    },
    "kernelspec": {
      "name": "python3",
      "display_name": "Python 3"
    },
    "language_info": {
      "name": "python"
    }
  },
  "cells": [
    {
      "cell_type": "code",
      "source": [
        "def global_alignment(seq1, seq2):\n",
        "    match = 1\n",
        "    mismatch = -1\n",
        "    gap = -1\n",
        "    \n",
        "   \n",
        "    row_len = len(seq1) + 1\n",
        "    col_len = len(seq2) + 1\n",
        "    \n",
        "    score_matrix = [[0] * col_len for _ in range(row_len)]\n",
        " \n",
        "    for i in range(1, row_len):\n",
        "        score_matrix[i][0] = gap * i\n",
        "    for j in range(1, col_len):\n",
        "        score_matrix[0][j] = gap * j\n",
        "\n",
        "    for i in range(1, row_len):\n",
        "        for j in range(1, col_len):\n",
        "            if seq1[i-1] == seq2[j-1]:\n",
        "                score = match\n",
        "            else:\n",
        "                score = mismatch\n",
        "            diag_score = score_matrix[i-1][j-1] + score\n",
        "            up_score = score_matrix[i-1][j] + gap\n",
        "            left_score = score_matrix[i][j-1] + gap\n",
        "            score_matrix[i][j] = max(diag_score, up_score, left_score)\n",
        "    \n",
        "    # hizalama \n",
        "    align1 = ''\n",
        "    align2 = ''\n",
        "    i = row_len - 1\n",
        "    j = col_len - 1\n",
        "    while i > 0 and j > 0:\n",
        "        if score_matrix[i-1][j-1] + (match if seq1[i-1] == seq2[j-1] else mismatch) == score_matrix[i][j]:\n",
        "            align1 = seq1[i-1] + align1\n",
        "            align2 = seq2[j-1] + align2\n",
        "            i -= 1\n",
        "            j -= 1\n",
        "        elif score_matrix[i-1][j] + gap == score_matrix[i][j]:\n",
        "            align1 = seq1[i-1] + align1\n",
        "            align2 = '-' + align2\n",
        "            i -= 1\n",
        "        else:\n",
        "            align1 = '-' + align1\n",
        "            align2 = seq2[j-1] + align2\n",
        "            j -= 1\n",
        "    \n",
        "  \n",
        "    while i > 0:\n",
        "        align1 = seq1[i-1] + align1\n",
        "        align2 = '-' + align2\n",
        "        i -= 1\n",
        "    while j > 0:\n",
        "        align1 = '-' + align1\n",
        "        align2 = seq2[j-1] + align2\n",
        "        j -= 1\n",
        "    \n",
        "    return align1, align2\n",
        "\n",
        "\n",
        "seq1 = 'GATTACA'\n",
        "seq2 = 'GCATGCU'\n",
        "alignment = global_alignment(seq1, seq2)\n",
        "\n",
        "print(alignment[0])\n",
        "print(alignment[1])\n"
      ],
      "metadata": {
        "colab": {
          "base_uri": "https://localhost:8080/"
        },
        "id": "80ySsJtcN_w-",
        "outputId": "c45c6615-4f11-4270-c6ec-7988f10f51de"
      },
      "execution_count": 9,
      "outputs": [
        {
          "output_type": "stream",
          "name": "stdout",
          "text": [
            "G-ATTACA\n",
            "GCA-TGCU\n"
          ]
        }
      ]
    },
    {
      "cell_type": "code",
      "source": [
        "def local_alignment(s1, s2, match=4, mismatch=-2, gap=-1):\n",
        "    \n",
        "    n, m = len(s1), len(s2)\n",
        "    H = [[0] * (m+1) for _ in range(n+1)]\n",
        "    F = [[0] * (m+1) for _ in range(n+1)]\n",
        "    max_score = float('-inf')\n",
        "    max_i, max_j = None, None\n",
        "    \n",
        "    \n",
        "    for i in range(1, n+1):\n",
        "        for j in range(1, m+1):\n",
        "            F[i][j] = max(F[i-1][j] + gap, H[i-1][j] + gap)\n",
        "            H[i][j] = max(H[i-1][j-1] + (match if s1[i-1] == s2[j-1] else mismatch),\n",
        "                          F[i][j], H[i][j-1] + gap)\n",
        "            if H[i][j] <= 0:\n",
        "                H[i][j] = 0\n",
        "                F[i][j] = 0\n",
        "                \n",
        "          \n",
        "            if H[i][j] > max_score:\n",
        "                max_score = H[i][j]\n",
        "                max_i, max_j = i, j\n",
        "                \n",
        "    \n",
        "    align1, align2 = '', ''\n",
        "    i, j = max_i, max_j\n",
        "    while H[i][j] != 0:\n",
        "        if H[i][j] == H[i-1][j-1] + (match if s1[i-1] == s2[j-1] else mismatch):\n",
        "            align1 = s1[i-1] + align1\n",
        "            align2 = s2[j-1] + align2\n",
        "            i, j = i-1, j-1\n",
        "        elif H[i][j] == F[i][j]:\n",
        "            align1 = s1[i-1] + align1\n",
        "            align2 = '-' + align2\n",
        "            i -= 1\n",
        "        else:\n",
        "            align1 = '-' + align1\n",
        "            align2 = s2[j-1] + align2\n",
        "            j -= 1\n",
        "    \n",
        "\n",
        "    return align1, align2, max_score\n",
        "\n",
        "\n",
        "s1 = 'KVLEFGY'\n",
        "s2 = 'EQLLKALEFKL'\n",
        "align1, align2, score = local_alignment(s1, s2, match=4, mismatch=-2, gap=-1)\n",
        "print(f's1: {align1}')\n",
        "print(f's2: {align2}')\n",
        "print(f'score: {score}')\n"
      ],
      "metadata": {
        "colab": {
          "base_uri": "https://localhost:8080/"
        },
        "id": "CISaeCthRBG2",
        "outputId": "6bdffd39-8320-472e-8263-573e4d4dd1b8"
      },
      "execution_count": 8,
      "outputs": [
        {
          "output_type": "stream",
          "name": "stdout",
          "text": [
            "s1: KVLEF\n",
            "s2: KALEF\n",
            "score: 14\n"
          ]
        }
      ]
    }
  ]
}